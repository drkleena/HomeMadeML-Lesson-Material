{
 "cells": [
  {
   "cell_type": "code",
   "execution_count": 224,
   "metadata": {
    "collapsed": false
   },
   "outputs": [],
   "source": [
    "%matplotlib inline\n",
    "import pandas as pd\n",
    "import numpy as np\n",
    "import matplotlib as plt\n",
    "from matplotlib import pyplot\n",
    "from sklearn.datasets.samples_generator import make_blobs"
   ]
  },
  {
   "cell_type": "code",
   "execution_count": 225,
   "metadata": {
    "collapsed": false
   },
   "outputs": [
    {
     "data": {
      "image/png": "[encoded data removed]",
      "text/plain": [
       "<matplotlib.figure.Figure at 0x1226f3518>"
      ]
     },
     "metadata": {},
     "output_type": "display_data"
    },
    {
     "data": {
      "text/plain": [
       "<pandas.plotting._core.FramePlotMethods object at 0x120709438>"
      ]
     },
     "execution_count": 225,
     "metadata": {},
     "output_type": "execute_result"
    },
    {
     "data": {
      "image/png": "[encoded data removed]",
      "text/plain": [
       "<matplotlib.figure.Figure at 0x11ee5a630>"
      ]
     },
     "metadata": {},
     "output_type": "display_data"
    }
   ],
   "source": [
    "# generate 2d classification dataset\n",
    "X, l = make_blobs(n_samples=100, centers=3, n_features=2)\n",
    "\n",
    "# generate 2d classification dataset\n",
    "# scatter plot, dots colored by class value\n",
    "\n",
    "model = DataFrame(dict(x=X[:,0], y=X[:,1], label=l))\n",
    "\n",
    "colors = {0:'red', 1:'blue', 2:'green'}\n",
    "\n",
    "fig, ax = pyplot.subplots()\n",
    "\n",
    "grouped = model.groupby('label')\n",
    "\n",
    "for key, group in grouped:\n",
    "    \n",
    "    group.plot(ax=ax, kind='scatter', x='x', y='y', label=key, color=colors[key])\n",
    "    \n",
    "pyplot.show()\n",
    "\n",
    "model.plot.scatter(x='x', y='y');df.plot"
   ]
  },
  {
   "cell_type": "code",
   "execution_count": 226,
   "metadata": {
    "collapsed": false
   },
   "outputs": [],
   "source": [
    "train = model[0:len(model.index)//2]\n",
    "test = model[len(model.index)//2:]"
   ]
  },
  {
   "cell_type": "code",
   "execution_count": 230,
   "metadata": {
    "collapsed": false
   },
   "outputs": [
    {
     "name": "stdout",
     "output_type": "stream",
     "text": [
      "40\n"
     ]
    },
    {
     "data": {
      "text/html": [
       "<div>\n",
       "<style>\n",
       "    .dataframe thead tr:only-child th {\n",
       "        text-align: right;\n",
       "    }\n",
       "\n",
       "    .dataframe thead th {\n",
       "        text-align: left;\n",
       "    }\n",
       "\n",
       "    .dataframe tbody tr th {\n",
       "        vertical-align: top;\n",
       "    }\n",
       "</style>\n",
       "<table border=\"1\" class=\"dataframe\">\n",
       "  <thead>\n",
       "    <tr style=\"text-align: right;\">\n",
       "      <th></th>\n",
       "      <th>label</th>\n",
       "      <th>x</th>\n",
       "      <th>y</th>\n",
       "    </tr>\n",
       "  </thead>\n",
       "  <tbody>\n",
       "    <tr>\n",
       "      <th>90</th>\n",
       "      <td>2</td>\n",
       "      <td>2.065637</td>\n",
       "      <td>-9.419705</td>\n",
       "    </tr>\n",
       "  </tbody>\n",
       "</table>\n",
       "</div>"
      ],
      "text/plain": [
       "    label         x         y\n",
       "90      2  2.065637 -9.419705"
      ]
     },
     "execution_count": 230,
     "metadata": {},
     "output_type": "execute_result"
    }
   ],
   "source": [
    "r = np.random.randint(0,len(test.index)-2)\n",
    "print (r)\n",
    "random_instance = test[r:r+1]\n",
    "random_instance"
   ]
  },
  {
   "cell_type": "code",
   "execution_count": 231,
   "metadata": {
    "collapsed": false
   },
   "outputs": [
    {
     "data": {
      "image/png": "[encoded data removed]",
      "text/plain": [
       "<matplotlib.figure.Figure at 0x122bdc240>"
      ]
     },
     "metadata": {},
     "output_type": "display_data"
    }
   ],
   "source": [
    "fig, ax = pyplot.subplots()\n",
    "grouped = train.groupby('label')\n",
    "for key, group in grouped:\n",
    "    \n",
    "    group.plot(ax=ax, kind='scatter', x='x', y='y', label=key, color=colors[key])\n",
    "    \n",
    "pyplot.show()\n"
   ]
  },
  {
   "cell_type": "code",
   "execution_count": 232,
   "metadata": {
    "collapsed": false
   },
   "outputs": [
    {
     "data": {
      "image/png": "[encoded data removed]",
      "text/plain": [
       "<matplotlib.figure.Figure at 0x1226bf2e8>"
      ]
     },
     "metadata": {},
     "output_type": "display_data"
    }
   ],
   "source": [
    "fig, ax = pyplot.subplots()\n",
    "grouped = test.groupby('label')\n",
    "for key, group in grouped:\n",
    "    \n",
    "    group.plot(ax=ax, kind='scatter', x='x', y='y', label=key, color=colors[key])\n",
    "    \n",
    "pyplot.show()\n"
   ]
  },
  {
   "cell_type": "code",
   "execution_count": 233,
   "metadata": {
    "collapsed": false
   },
   "outputs": [],
   "source": [
    "def euclid_dist(A, B):\n",
    "    Ax, Ay = A[0], A[1]\n",
    "    Bx, By = B[0], B[1]\n",
    "   \n",
    "    dist = ((Ax-Bx)**2)+((Ay-By)**2)\n",
    "   \n",
    "    return dist"
   ]
  },
  {
   "cell_type": "code",
   "execution_count": 234,
   "metadata": {
    "collapsed": false
   },
   "outputs": [],
   "source": [
    "def fill_distances(model, instance):\n",
    "    distances = []\n",
    "    Ax, Ay = float(instance['x']), float(instance['y'])\n",
    "    A = (Ax, Ay)\n",
    "    for x in range(len(model.index)):\n",
    "        B = (model['x'][x], model['y'][x])\n",
    "        distances.append((euclid_dist(A, B), model['label'][x]))\n",
    "            \n",
    "    return distances     "
   ]
  },
  {
   "cell_type": "code",
   "execution_count": 308,
   "metadata": {
    "collapsed": true
   },
   "outputs": [],
   "source": [
    "from collections import defaultdict as dd\n",
    "def predict(distances, k):\n",
    "    votes = dd(int)\n",
    "    \n",
    "    for d in sorted(distances)[:k]:\n",
    "     \n",
    "        votes[str(d[1])] +=1\n",
    "    \n",
    "    \n",
    "    prediction = sorted(votes, key=votes.get, reverse = True)[0]\n",
    "    \n",
    "    return prediction"
   ]
  },
  {
   "cell_type": "code",
   "execution_count": null,
   "metadata": {
    "collapsed": true
   },
   "outputs": [],
   "source": []
  },
  {
   "cell_type": "code",
   "execution_count": 309,
   "metadata": {
    "collapsed": false,
    "scrolled": true
   },
   "outputs": [],
   "source": [
    "votes = fill_distances(train, random_instance)"
   ]
  },
  {
   "cell_type": "code",
   "execution_count": 310,
   "metadata": {
    "collapsed": false
   },
   "outputs": [
    {
     "data": {
      "text/plain": [
       "[(0.23120910066759048, 2),\n",
       " (0.38510435917790192, 2),\n",
       " (0.70404285184703053, 2),\n",
       " (0.76740335864204035, 2),\n",
       " (1.1077427926843206, 2),\n",
       " (1.8658596830428122, 2),\n",
       " (1.9877572931640519, 2),\n",
       " (2.0241188203208456, 2),\n",
       " (2.288282841178185, 2),\n",
       " (2.683089070524638, 2),\n",
       " (3.0108455886920744, 2),\n",
       " (3.6625770796808297, 2),\n",
       " (6.456581212491364, 2),\n",
       " (6.564726709714499, 2),\n",
       " (6.7627831485524998, 2),\n",
       " (7.331425155986274, 2),\n",
       " (7.7669050282524355, 2),\n",
       " (63.079881339231967, 0),\n",
       " (67.421380666212301, 0),\n",
       " (72.227913634523304, 0),\n",
       " (74.505164229720975, 0),\n",
       " (74.585587092955919, 0),\n",
       " (74.889383602504807, 0),\n",
       " (81.433163824125828, 0),\n",
       " (83.42973708639866, 0),\n",
       " (84.019890314217761, 0),\n",
       " (92.334918581183032, 0),\n",
       " (101.56173256847248, 0),\n",
       " (103.64267014085405, 0),\n",
       " (106.03375801932381, 0),\n",
       " (109.08697225220833, 0),\n",
       " (120.21194623267812, 0),\n",
       " (125.35968942510645, 0),\n",
       " (130.20527797933639, 0),\n",
       " (225.76539285217572, 1),\n",
       " (229.15172671232051, 1),\n",
       " (230.18469065919334, 1),\n",
       " (248.84511356587333, 1),\n",
       " (267.42140811562177, 1),\n",
       " (280.61418686614621, 1),\n",
       " (281.55024200772607, 1),\n",
       " (285.3292112714006, 1),\n",
       " (285.70990755045341, 1),\n",
       " (287.42142575050889, 1),\n",
       " (299.83310835734443, 1),\n",
       " (308.87934123263136, 1),\n",
       " (309.74190428036877, 1),\n",
       " (316.96071206260041, 1),\n",
       " (327.58795189011107, 1),\n",
       " (334.12643541151613, 1)]"
      ]
     },
     "execution_count": 310,
     "metadata": {},
     "output_type": "execute_result"
    }
   ],
   "source": [
    "sorted(votes)"
   ]
  },
  {
   "cell_type": "code",
   "execution_count": 311,
   "metadata": {
    "collapsed": false,
    "scrolled": true
   },
   "outputs": [
    {
     "data": {
      "text/plain": [
       "'2'"
      ]
     },
     "execution_count": 311,
     "metadata": {},
     "output_type": "execute_result"
    }
   ],
   "source": [
    "predict(votes,1)"
   ]
  },
  {
   "cell_type": "code",
   "execution_count": null,
   "metadata": {
    "collapsed": false
   },
   "outputs": [],
   "source": []
  },
  {
   "cell_type": "code",
   "execution_count": 237,
   "metadata": {
    "collapsed": false
   },
   "outputs": [
    {
     "ename": "SyntaxError",
     "evalue": "unexpected EOF while parsing (<ipython-input-237-0a8826128801>, line 2)",
     "output_type": "error",
     "traceback": [
      "\u001b[0;36m  File \u001b[0;32m\"<ipython-input-237-0a8826128801>\"\u001b[0;36m, line \u001b[0;32m2\u001b[0m\n\u001b[0;31m    \u001b[0m\n\u001b[0m    ^\u001b[0m\n\u001b[0;31mSyntaxError\u001b[0m\u001b[0;31m:\u001b[0m unexpected EOF while parsing\n"
     ]
    }
   ],
   "source": [
    "def knn_predict(train, test, k):\n"
   ]
  },
  {
   "cell_type": "code",
   "execution_count": 154,
   "metadata": {
    "collapsed": false
   },
   "outputs": [
    {
     "data": {
      "text/html": [
       "<div>\n",
       "<style>\n",
       "    .dataframe thead tr:only-child th {\n",
       "        text-align: right;\n",
       "    }\n",
       "\n",
       "    .dataframe thead th {\n",
       "        text-align: left;\n",
       "    }\n",
       "\n",
       "    .dataframe tbody tr th {\n",
       "        vertical-align: top;\n",
       "    }\n",
       "</style>\n",
       "<table border=\"1\" class=\"dataframe\">\n",
       "  <thead>\n",
       "    <tr style=\"text-align: right;\">\n",
       "      <th></th>\n",
       "      <th>label</th>\n",
       "      <th>x</th>\n",
       "      <th>y</th>\n",
       "    </tr>\n",
       "  </thead>\n",
       "  <tbody>\n",
       "    <tr>\n",
       "      <th>4</th>\n",
       "      <td>2</td>\n",
       "      <td>-9.902341</td>\n",
       "      <td>1.690173</td>\n",
       "    </tr>\n",
       "  </tbody>\n",
       "</table>\n",
       "</div>"
      ],
      "text/plain": [
       "   label         x         y\n",
       "4      2 -9.902341  1.690173"
      ]
     },
     "execution_count": 154,
     "metadata": {},
     "output_type": "execute_result"
    }
   ],
   "source": [
    "random_instance"
   ]
  },
  {
   "cell_type": "code",
   "execution_count": null,
   "metadata": {
    "collapsed": false
   },
   "outputs": [],
   "source": []
  },
  {
   "cell_type": "code",
   "execution_count": null,
   "metadata": {
    "collapsed": true
   },
   "outputs": [],
   "source": []
  }
 ],
 "metadata": {
  "kernelspec": {
   "display_name": "Python 3",
   "language": "python",
   "name": "python3"
  },
  "language_info": {
   "codemirror_mode": {
    "name": "ipython",
    "version": 3
   },
   "file_extension": ".py",
   "mimetype": "text/x-python",
   "name": "python",
   "nbconvert_exporter": "python",
   "pygments_lexer": "ipython3",
   "version": "3.6.0"
  }
 },
 "nbformat": 4,
 "nbformat_minor": 2
}
